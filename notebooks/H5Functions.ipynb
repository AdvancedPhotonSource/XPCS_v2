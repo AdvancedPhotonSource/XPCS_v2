{
 "cells": [
  {
   "cell_type": "code",
   "execution_count": 9,
   "metadata": {},
   "outputs": [],
   "source": [
    "%matplotlib inline\n",
    "\n",
    "from pprint import pprint\n",
    "import h5py\n",
    "import matplotlib.pyplot as plt\n"
   ]
  },
  {
   "cell_type": "code",
   "execution_count": 2,
   "metadata": {},
   "outputs": [],
   "source": [
    "# f = h5py.File('/data2/xpcs-eigen/data/qzhang_q0_bug/B151_D100_NoFly_att02_0005_0001-100000.hdf', 'r+')\n",
    "f = h5py.File('/data2/xpcs-eigen/data/averaging_bug/D043_Aerogel_1mm_Fly2_att3_Rq0_00010_0001-100000.hdf', 'r')"
   ]
  },
  {
   "cell_type": "code",
   "execution_count": 3,
   "metadata": {},
   "outputs": [
    {
     "data": {
      "text/plain": [
       "['exchange', 'hdf_metadata_version', 'measurement', 'xpcs']"
      ]
     },
     "execution_count": 3,
     "metadata": {},
     "output_type": "execute_result"
    }
   ],
   "source": [
    "list(f.keys())"
   ]
  },
  {
   "cell_type": "code",
   "execution_count": 4,
   "metadata": {},
   "outputs": [],
   "source": [
    "paths = f['/xpcs'].keys()"
   ]
  },
  {
   "cell_type": "code",
   "execution_count": 13,
   "metadata": {},
   "outputs": [
    {
     "name": "stdout",
     "output_type": "stream",
     "text": [
      "['Version',\n",
      " 'analysis_type',\n",
      " 'avg_frames',\n",
      " 'avg_frames_burst',\n",
      " 'batches',\n",
      " 'blemish_enabled',\n",
      " 'compression',\n",
      " 'dark_begin',\n",
      " 'dark_begin_todo',\n",
      " 'dark_end',\n",
      " 'dark_end_todo',\n",
      " 'data_begin',\n",
      " 'data_begin_todo',\n",
      " 'data_end',\n",
      " 'data_end_todo',\n",
      " 'delays_per_level',\n",
      " 'delays_per_level_burst',\n",
      " 'dnophi',\n",
      " 'dnoq',\n",
      " 'dphilist',\n",
      " 'dphispan',\n",
      " 'dqlist',\n",
      " 'dqmap',\n",
      " 'dqspan',\n",
      " 'dynamic_mean_window_size',\n",
      " 'flatfield_enabled',\n",
      " 'input_file_local',\n",
      " 'input_file_remote',\n",
      " 'kinetics',\n",
      " 'lld',\n",
      " 'mask',\n",
      " 'normalization_method',\n",
      " 'normalize_by_framesum',\n",
      " 'normalize_by_smoothed_img',\n",
      " 'num_g2partials',\n",
      " 'output_data',\n",
      " 'output_file_local',\n",
      " 'output_file_remote',\n",
      " 'qmap_hdf5_filename',\n",
      " 'qphi_bin_to_process',\n",
      " 'sigma',\n",
      " 'smoothing_filter',\n",
      " 'smoothing_method',\n",
      " 'snophi',\n",
      " 'snoq',\n",
      " 'specfile',\n",
      " 'specscan_dark_number',\n",
      " 'specscan_data_number',\n",
      " 'sphilist',\n",
      " 'sphispan',\n",
      " 'sqlist',\n",
      " 'sqmap',\n",
      " 'sqspan',\n",
      " 'static_mean_window_size',\n",
      " 'stride_frames',\n",
      " 'stride_frames_burst',\n",
      " 'swbinX',\n",
      " 'swbinY',\n",
      " 'twotime2onetime_window_size']\n"
     ]
    }
   ],
   "source": [
    "sorted_paths = [path for path in paths]\n",
    "pprint(sorted(sorted_paths))"
   ]
  },
  {
   "cell_type": "code",
   "execution_count": 17,
   "metadata": {},
   "outputs": [
    {
     "data": {
      "text/plain": [
       "array([[100000]], dtype=uint64)"
      ]
     },
     "execution_count": 17,
     "metadata": {},
     "output_type": "execute_result"
    }
   ],
   "source": [
    "f['/xpcs/data_end_todo'][:]"
   ]
  },
  {
   "cell_type": "code",
   "execution_count": 34,
   "metadata": {},
   "outputs": [],
   "source": [
    "dset = f['/measurement/instrument/detector/x_pixel_size']"
   ]
  },
  {
   "cell_type": "code",
   "execution_count": 35,
   "metadata": {},
   "outputs": [
    {
     "name": "stdout",
     "output_type": "stream",
     "text": [
      "[[0.076]]\n"
     ]
    }
   ],
   "source": [
    "print(dset[...])"
   ]
  },
  {
   "cell_type": "code",
   "execution_count": 57,
   "metadata": {},
   "outputs": [],
   "source": [
    "dset = f.create_dataset(\"/xpcs/smoothing_filter\", (100,), dtype=\"S10\")\n"
   ]
  },
  {
   "cell_type": "code",
   "execution_count": 58,
   "metadata": {},
   "outputs": [],
   "source": [
    "dset.attrs[\"name\"] = b\"none\""
   ]
  },
  {
   "cell_type": "code",
   "execution_count": 18,
   "metadata": {},
   "outputs": [],
   "source": [
    "f.close()"
   ]
  },
  {
   "cell_type": "code",
   "execution_count": 77,
   "metadata": {},
   "outputs": [],
   "source": [
    "dset = b\"None\";\n"
   ]
  },
  {
   "cell_type": "code",
   "execution_count": 85,
   "metadata": {},
   "outputs": [],
   "source": [
    "dset = f['/xpcs/smoothing_method']"
   ]
  },
  {
   "cell_type": "code",
   "execution_count": 86,
   "metadata": {},
   "outputs": [
    {
     "data": {
      "text/plain": [
       "<HDF5 dataset \"smoothing_method\": shape (), type \"|O\">"
      ]
     },
     "execution_count": 86,
     "metadata": {},
     "output_type": "execute_result"
    }
   ],
   "source": [
    "dset"
   ]
  },
  {
   "cell_type": "code",
   "execution_count": null,
   "metadata": {},
   "outputs": [],
   "source": []
  }
 ],
 "metadata": {
  "kernelspec": {
   "display_name": "whydis",
   "language": "python",
   "name": "whydis"
  },
  "language_info": {
   "codemirror_mode": {
    "name": "ipython",
    "version": 3
   },
   "file_extension": ".py",
   "mimetype": "text/x-python",
   "name": "python",
   "nbconvert_exporter": "python",
   "pygments_lexer": "ipython3",
   "version": "3.7.3"
  },
  "toc": {
   "base_numbering": 1,
   "nav_menu": {},
   "number_sections": true,
   "sideBar": true,
   "skip_h1_title": false,
   "title_cell": "Table of Contents",
   "title_sidebar": "Contents",
   "toc_cell": false,
   "toc_position": {},
   "toc_section_display": true,
   "toc_window_display": false
  }
 },
 "nbformat": 4,
 "nbformat_minor": 2
}
