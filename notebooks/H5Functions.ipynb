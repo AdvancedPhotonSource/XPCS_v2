{
 "cells": [
  {
   "cell_type": "code",
   "execution_count": 52,
   "metadata": {},
   "outputs": [],
   "source": [
    "%matplotlib inline\n",
    "\n",
    "import h5py\n",
    "import matplotlib.pyplot as plt\n"
   ]
  },
  {
   "cell_type": "code",
   "execution_count": 79,
   "metadata": {},
   "outputs": [],
   "source": [
    "# f = h5py.File('/data2/xpcs-eigen/data/qzhang_q0_bug/B151_D100_NoFly_att02_0005_0001-100000.hdf', 'r+')\n",
    "f = h5py.File('/data2/xpcs-eigen/data/qzhang_q0_bug/B151_D100_NoFly_att02_0005_0001-100000.hdf', 'r')"
   ]
  },
  {
   "cell_type": "code",
   "execution_count": 80,
   "metadata": {},
   "outputs": [
    {
     "data": {
      "text/plain": [
       "['exchange', 'measurement', 'xpcs']"
      ]
     },
     "execution_count": 80,
     "metadata": {},
     "output_type": "execute_result"
    }
   ],
   "source": [
    "list(f.keys())"
   ]
  },
  {
   "cell_type": "code",
   "execution_count": 81,
   "metadata": {},
   "outputs": [],
   "source": [
    "paths = f['/xpcs'].keys()"
   ]
  },
  {
   "cell_type": "code",
   "execution_count": 82,
   "metadata": {},
   "outputs": [
    {
     "data": {
      "text/plain": [
       "<KeysViewHDF5 ['Version', 'analysis_type', 'avg_frames', 'avg_frames_burst', 'batches', 'blemish_enabled', 'compression', 'dark_begin', 'dark_begin_todo', 'dark_end', 'dark_end_todo', 'data_begin', 'data_begin_todo', 'data_end', 'data_end_todo', 'delays_per_level', 'delays_per_level_burst', 'dnophi', 'dnoq', 'dphilist', 'dphispan', 'dqlist', 'dqmap', 'dqspan', 'dynamic_mean_window_size', 'flatfield_enabled', 'input_file_local', 'input_file_remote', 'kinetics', 'lld', 'mask', 'normalization_method', 'normalize_by_framesum', 'normalize_by_smoothed_img', 'num_g2partials', 'output_data', 'output_file_local', 'output_file_remote', 'qmap_hdf5_filename', 'qphi_bin_to_process', 'sigma', 'smoothing_filter', 'smoothing_method', 'snophi', 'snoq', 'specfile', 'specscan_dark_number', 'specscan_data_number', 'sphilist', 'sphispan', 'sqlist', 'sqmap', 'sqspan', 'static_mean_window_size', 'stride_frames', 'stride_frames_burst', 'swbinX', 'swbinY', 'twotime2onetime_window_size']>"
      ]
     },
     "execution_count": 82,
     "metadata": {},
     "output_type": "execute_result"
    }
   ],
   "source": [
    "paths"
   ]
  },
  {
   "cell_type": "code",
   "execution_count": 76,
   "metadata": {},
   "outputs": [],
   "source": [
    "dset = f['/xpcs/smoothing_filter']"
   ]
  },
  {
   "cell_type": "code",
   "execution_count": 57,
   "metadata": {},
   "outputs": [],
   "source": [
    "dset = f.create_dataset(\"/xpcs/smoothing_filter\", (100,), dtype=\"S10\")\n"
   ]
  },
  {
   "cell_type": "code",
   "execution_count": 58,
   "metadata": {},
   "outputs": [],
   "source": [
    "dset.attrs[\"name\"] = b\"none\""
   ]
  },
  {
   "cell_type": "code",
   "execution_count": 87,
   "metadata": {},
   "outputs": [],
   "source": [
    "f.close()"
   ]
  },
  {
   "cell_type": "code",
   "execution_count": 77,
   "metadata": {},
   "outputs": [],
   "source": [
    "dset = b\"None\";\n"
   ]
  },
  {
   "cell_type": "code",
   "execution_count": 85,
   "metadata": {},
   "outputs": [],
   "source": [
    "dset = f['/xpcs/smoothing_method']"
   ]
  },
  {
   "cell_type": "code",
   "execution_count": 86,
   "metadata": {},
   "outputs": [
    {
     "data": {
      "text/plain": [
       "<HDF5 dataset \"smoothing_method\": shape (), type \"|O\">"
      ]
     },
     "execution_count": 86,
     "metadata": {},
     "output_type": "execute_result"
    }
   ],
   "source": [
    "dset"
   ]
  },
  {
   "cell_type": "code",
   "execution_count": null,
   "metadata": {},
   "outputs": [],
   "source": []
  }
 ],
 "metadata": {
  "kernelspec": {
   "display_name": "whydis",
   "language": "python",
   "name": "whydis"
  },
  "language_info": {
   "codemirror_mode": {
    "name": "ipython",
    "version": 3
   },
   "file_extension": ".py",
   "mimetype": "text/x-python",
   "name": "python",
   "nbconvert_exporter": "python",
   "pygments_lexer": "ipython3",
   "version": "3.7.3"
  },
  "toc": {
   "base_numbering": 1,
   "nav_menu": {},
   "number_sections": true,
   "sideBar": true,
   "skip_h1_title": false,
   "title_cell": "Table of Contents",
   "title_sidebar": "Contents",
   "toc_cell": false,
   "toc_position": {},
   "toc_section_display": true,
   "toc_window_display": false
  }
 },
 "nbformat": 4,
 "nbformat_minor": 2
}
